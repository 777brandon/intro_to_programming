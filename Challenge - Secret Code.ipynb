{
 "cells": [
  {
   "cell_type": "code",
   "execution_count": 1,
   "id": "93c511ae",
   "metadata": {},
   "outputs": [
    {
     "name": "stdout",
     "output_type": "stream",
     "text": [
      "Enter code:1244\n",
      "Incorrect, try again.\n",
      "Enter code:144\n",
      "Incorrect, try again.\n",
      "Enter code:1234\n",
      "Correct, welcome back.\n"
     ]
    }
   ],
   "source": [
    "attempt = 0\n",
    "pin = 1234\n",
    "\n",
    "while attempt < 3 :\n",
    "    answer = input('Enter code:')\n",
    "    answer = int(answer)\n",
    "    if answer == pin :\n",
    "        print(\"Correct, welcome back.\")\n",
    "        attempt = 4\n",
    "    elif attempt == 2:\n",
    "        print(\"Sorry but you have been locked out.\")\n",
    "        attempt = 4\n",
    "    else :\n",
    "            print(\"Incorrect, try again.\")\n",
    "            attempt = attempt + 1\n",
    "    "
   ]
  },
  {
   "cell_type": "code",
   "execution_count": null,
   "id": "6690f906",
   "metadata": {},
   "outputs": [],
   "source": []
  }
 ],
 "metadata": {
  "kernelspec": {
   "display_name": "Python 3 (ipykernel)",
   "language": "python",
   "name": "python3"
  },
  "language_info": {
   "codemirror_mode": {
    "name": "ipython",
    "version": 3
   },
   "file_extension": ".py",
   "mimetype": "text/x-python",
   "name": "python",
   "nbconvert_exporter": "python",
   "pygments_lexer": "ipython3",
   "version": "3.10.9"
  }
 },
 "nbformat": 4,
 "nbformat_minor": 5
}
