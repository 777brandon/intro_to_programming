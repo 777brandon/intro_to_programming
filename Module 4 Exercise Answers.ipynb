{
 "cells": [
  {
   "cell_type": "markdown",
   "metadata": {},
   "source": [
    "### Exercise 1: \n",
    "Ask for a birthday, a favorite gift, and their dream job. Then, display summerized information in a formated string."
   ]
  },
  {
   "cell_type": "code",
   "execution_count": null,
   "metadata": {},
   "outputs": [],
   "source": [
    "birthdate=input(\"What is your birthday?\")\n",
    "\n",
    "gift=input(\"What is your favorite gift? \")\n",
    "\n",
    "job=input(\"What is your dream job? \")\n",
    "\n",
    "print(f\"\\nYou said your birthday is '{birthdate}' and your favorite gift is '{gift}'.\\nYou also said your dream job is '{job}'\")"
   ]
  },
  {
   "cell_type": "markdown",
   "metadata": {},
   "source": [
    "### Exercise 2: \n",
    "Ask for a favorite song, favorite movie, and favorite book.\n",
    "Use print statements to ask the questions, however user must type the answer on the same line as the question.\n",
    "\n",
    "Display summerized string."
   ]
  },
  {
   "cell_type": "code",
   "execution_count": null,
   "metadata": {},
   "outputs": [],
   "source": [
    "# ask for a favorite song using a print statement\n",
    "print(\"What is your favorite song?\", end=' ')\n",
    "song=input()\n",
    "\n",
    "# ask for a favorite movie using a print statement\n",
    "print(\"What is your favorite movie?\", end=' ')\n",
    "movie=input()\n",
    "\n",
    "# ask for a favorite book using a print statement\n",
    "print(\"What is your favorite book?\", end=' ')\n",
    "book=input()\n",
    "\n",
    "# summerize\n",
    "print(f\"Favorite song: {song}\\nFavorite movie: {movie}\\nFavorite book: {book}\")"
   ]
  },
  {
   "cell_type": "markdown",
   "metadata": {},
   "source": [
    "### Exercise 3\n",
    "Create a function that concatonates two strings and prints the new sentence out. Then, ask a user to type in two strings and print out the concatonation by calling your function.\n"
   ]
  },
  {
   "cell_type": "code",
   "execution_count": null,
   "metadata": {},
   "outputs": [],
   "source": [
    "# create a function\n",
    "\n",
    "def my_function(str1, str2):\n",
    "    return str1 + str2\n"
   ]
  },
  {
   "cell_type": "code",
   "execution_count": null,
   "metadata": {},
   "outputs": [],
   "source": [
    "# get two strings from the user\n",
    "\n",
    "str1=input(\"Type in the first string: \")\n",
    "str2=input(\"Type in the second string: \")\n",
    "\n",
    "# call your function\n",
    "print(my_function(str1, str2))\n",
    "print(\"\\n\" * 2)\n",
    "\n",
    "# or\n",
    "print(my_function(input(\"Type in the first string: \"), input(\"Type in the second string: \")))"
   ]
  },
  {
   "cell_type": "markdown",
   "metadata": {},
   "source": [
    "### Exercise 4 - Calling a function within a function\n",
    "\n",
    "Create a function for :\n",
    "\n",
    "    adding 2 numbers, \n",
    "    subtracting 2 numbers, \n",
    "    multiplying 2 numbers, \n",
    "    dividing 2 numbers.\n",
    "\n",
    "Create a function that computes BMI using above functions \n",
    "\n",
    "    BMI = ( Weight in Pounds / ( Height in inches x Height in inches ) ) x 703\n",
    "\n",
    "\n",
    "Then, get a weight and height from a user to compute user's BMI using your functions."
   ]
  },
  {
   "cell_type": "code",
   "execution_count": null,
   "metadata": {},
   "outputs": [],
   "source": [
    "# define a function to add two numbers\n",
    "def add(arg1, arg2):\n",
    "    return arg1 + arg2\n"
   ]
  },
  {
   "cell_type": "code",
   "execution_count": null,
   "metadata": {},
   "outputs": [],
   "source": [
    "# define a function to subtract two numbers\n",
    "def subtract(arg1, arg2):\n",
    "    return arg1 - arg2\n"
   ]
  },
  {
   "cell_type": "code",
   "execution_count": null,
   "metadata": {},
   "outputs": [],
   "source": [
    "# define a function to multiply two numbers\n",
    "def multiply(arg1, arg2):\n",
    "    return arg1 * arg2\n"
   ]
  },
  {
   "cell_type": "code",
   "execution_count": null,
   "metadata": {},
   "outputs": [],
   "source": [
    "# define a function to divide two numbers\n",
    "def divide(arg1, arg2):\n",
    "    return arg1 / arg2\n"
   ]
  },
  {
   "cell_type": "code",
   "execution_count": null,
   "metadata": {},
   "outputs": [],
   "source": [
    "# define a function to calculate BMI\n",
    "#    don't forget to use your functions \n",
    "#    instead of using arithematic operators\n",
    "\n",
    "def bmi(weight, height) :\n",
    "    temp1 = multiply(height, height)\n",
    "    temp2 = divide(weight, temp1)\n",
    "    return multiply(temp2, 703)\n",
    "\n"
   ]
  },
  {
   "cell_type": "code",
   "execution_count": null,
   "metadata": {},
   "outputs": [],
   "source": [
    "# get a weight from the user\n",
    "height = input(\"Enter your height in inches: \")\n",
    "\n",
    "# get a height from the user\n",
    "weight = input(\"Enter your weight in pounds: \")\n",
    "\n",
    "\n",
    "# compute BMI by calling your BMI function, and print out the result\n",
    "iheight = int(height)\n",
    "iweight = int(weight)\n",
    "\n",
    "print(f\"Your BMI is {bmi(iweight, iheight):.2f}\")\n"
   ]
  },
  {
   "cell_type": "markdown",
   "metadata": {},
   "source": [
    "### Exercise 5\n",
    "Create a function that takes three numeric arguments and returns their average. Then, write code that gets three numbers from the user and calls your function to compute the average of those numbers."
   ]
  },
  {
   "cell_type": "code",
   "execution_count": null,
   "metadata": {},
   "outputs": [],
   "source": [
    "# define a function that takes three arguments and returns their average\n",
    "def sum3(arg1, arg2, arg3) :\n",
    "    average = (arg1+arg2+arg3) / 3\n",
    "    return average\n"
   ]
  },
  {
   "cell_type": "code",
   "execution_count": null,
   "metadata": {},
   "outputs": [],
   "source": [
    "# get three scores from a user \n",
    "\n",
    "arg1=input(\"Enter a score: \")\n",
    "score1 = int(arg1)\n",
    "\n",
    "score2 = int(input(\"Enter a score: \"))\n",
    "score3 = int(input(\"Enter a score: \"))\n",
    "\n",
    "# call your function to compute the average score\n",
    "avg = sum3(score1, score2, score3)\n",
    "\n",
    "# print the average score\n",
    "print(f\"On the three tests the student scored {score1}, {score2} and {score3} for an average of {avg:.1f}\")\n",
    "print()\n",
    "\n",
    "\n",
    "# or\n",
    "print(\"-\" * 10)\n",
    "print(f\"The average of {score1}, {score2} and {score3} is {sum3(score1, score2, score3):.1f}\")"
   ]
  },
  {
   "cell_type": "markdown",
   "metadata": {},
   "source": [
    "### Exercise 6\n",
    "Using your pseudocode for \"How much water runs off a roof in a rain storm?\" from Module 2 homework, define a Python function. Then, write a program to call your function.\n",
    "\n",
    "<i>*Which functionality make sense to modulize into a function? Use Module 2 Exercise Answers.ipynb from Canvas, if needed.</i>"
   ]
  },
  {
   "cell_type": "code",
   "execution_count": null,
   "metadata": {},
   "outputs": [],
   "source": [
    "def compute_area(x, y) :\n",
    "    return x * y\n",
    "\n",
    "def compute_rainfall(area, rain) :\n",
    "    return area * rain\n",
    "\n",
    "def convert_to_gallon(measure) :\n",
    "    return measure / 231\n",
    "\n",
    "def convert_to_inch(measure) :\n",
    "    return measure * 12\n"
   ]
  },
  {
   "cell_type": "code",
   "execution_count": null,
   "metadata": {},
   "outputs": [],
   "source": [
    "width = int(input(\"Enter the width of the roof in feet: \"))\n",
    "length = int(input(\"Enter the length of the roof in feet: \"))\n",
    "rain = float(input(\"Enter the amount of rain in inches: \"))\n",
    "\n",
    "i_width = convert_to_inch(width)\n",
    "i_length = convert_to_inch(length)\n",
    "\n",
    "area = compute_area(i_width, i_length)\n",
    "rainfall = compute_rainfall(area, rain)\n",
    "\n",
    "amount = convert_to_gallon(rainfall)\n",
    "\n",
    "print()\n",
    "print(f\"Roof size: {width}' by {length}'\")\n",
    "print(f\"Rain amount: {rain}\\\"\")\n",
    "print(f\"Amount of water runs off a roof in a rain storm: {amount:,.2f} gallons\")"
   ]
  },
  {
   "cell_type": "code",
   "execution_count": null,
   "metadata": {},
   "outputs": [],
   "source": []
  }
 ],
 "metadata": {
  "kernelspec": {
   "display_name": "Python 3 (ipykernel)",
   "language": "python",
   "name": "python3"
  },
  "language_info": {
   "codemirror_mode": {
    "name": "ipython",
    "version": 3
   },
   "file_extension": ".py",
   "mimetype": "text/x-python",
   "name": "python",
   "nbconvert_exporter": "python",
   "pygments_lexer": "ipython3",
   "version": "3.10.9"
  }
 },
 "nbformat": 4,
 "nbformat_minor": 2
}
