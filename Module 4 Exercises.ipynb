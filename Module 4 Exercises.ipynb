{
 "cells": [
  {
   "cell_type": "markdown",
   "metadata": {},
   "source": [
    "### Exercise 1: \n",
    "Ask for a birthday, a favorite gift, and their dream job. Then, display summerized information in a formated string."
   ]
  },
  {
   "cell_type": "code",
   "execution_count": 8,
   "metadata": {},
   "outputs": [
    {
     "name": "stdout",
     "output_type": "stream",
     "text": [
      "What is your birthday? Jan 7th 200\n",
      "What is your favorite gift?:  Candy\n",
      "What is your dream job?Coder\n",
      "\n",
      "You said your birthday is 'Jan 7th 200' and your favorite gift is 'Candy'.\n",
      "You also said your dream job is 'Coder'\n"
     ]
    }
   ],
   "source": [
    "# ask for a birthday\n",
    "birthday = input(\"What is your birthday? \")\n",
    "\n",
    "# ask for a favorite gift\n",
    "gift = input(\"What is your favorite gift?:  \")\n",
    "\n",
    "\n",
    "# ask for the dream job\n",
    "job = input(\"What is your dream job?\")\n",
    "\n",
    "# display the information using a formatted string\n",
    "print(f\"\\nYou said your birthday is '{birthday}' and your favorite gift is '{gift}'.\\nYou also said your dream job is '{job}'\")"
   ]
  },
  {
   "cell_type": "markdown",
   "metadata": {},
   "source": [
    "### Exercise 2: \n",
    "Ask for a favorite song, favorite movie, and favorite book.\n",
    "Use print() statements to ask the questions. Make sure the user types the answer on the same line as the question.\n",
    "\n",
    "Display summerized string."
   ]
  },
  {
   "cell_type": "code",
   "execution_count": null,
   "metadata": {},
   "outputs": [],
   "source": [
    "# ask for a favorite song using a print statement\n",
    "print()\n",
    "\n",
    "\n",
    "# ask for a favorite movie using a print statement\n",
    "\n",
    "\n",
    "# ask for a favorite book using a print statement\n",
    "\n",
    "\n",
    "# summerize\n",
    "\n"
   ]
  },
  {
   "cell_type": "markdown",
   "metadata": {},
   "source": [
    "### Exercise 3\n",
    "Create a function that concatonates two strings and prints the new sentence out. Then, ask a user to type in two strings and print out the concatonation by calling your function.\n"
   ]
  },
  {
   "cell_type": "code",
   "execution_count": null,
   "metadata": {},
   "outputs": [],
   "source": [
    "# create a function\n",
    "def my_function()\n",
    "    "
   ]
  },
  {
   "cell_type": "code",
   "execution_count": null,
   "metadata": {},
   "outputs": [],
   "source": [
    "# get two strings from the user\n",
    "str1 = input()\n",
    "str2 = input()\n",
    "\n",
    "\n",
    "# call your function\n",
    "\n"
   ]
  },
  {
   "cell_type": "markdown",
   "metadata": {},
   "source": [
    "### Exercise 4 - Calling a function within a function\n",
    "\n",
    "Create a function for :\n",
    "\n",
    "    adding 2 numbers, \n",
    "    subtracting 2 numbers, \n",
    "    multiplying 2 numbers, \n",
    "    dividing 2 numbers.\n",
    "\n",
    "Create a function that computes BMI using above functions \n",
    "\n",
    "    BMI = ( Weight in Pounds / ( Height in inches x Height in inches ) ) x 703\n",
    "\n",
    "\n",
    "Then, get a weight and height from a user to compute user's BMI using your functions."
   ]
  },
  {
   "cell_type": "code",
   "execution_count": 10,
   "metadata": {},
   "outputs": [],
   "source": [
    "# define a function to add two numbers\n",
    "def add(arg1, arg2):\n",
    "    return arg1 + arg2"
   ]
  },
  {
   "cell_type": "code",
   "execution_count": 11,
   "metadata": {},
   "outputs": [],
   "source": [
    "# define a function to subtract two numbers\n",
    "def subtract(arg1, arg2):\n",
    "    return arg1 - arg2"
   ]
  },
  {
   "cell_type": "code",
   "execution_count": 12,
   "metadata": {},
   "outputs": [],
   "source": [
    "# define a function to multiply two numbers\n",
    "def multiply(arg1, arg2):\n",
    "    return arg1 * arg2"
   ]
  },
  {
   "cell_type": "code",
   "execution_count": 13,
   "metadata": {},
   "outputs": [],
   "source": [
    "# define a function to divide two numbers\n",
    "def divide(arg1, arg2):\n",
    "    return arg1 / arg2"
   ]
  },
  {
   "cell_type": "code",
   "execution_count": 14,
   "metadata": {},
   "outputs": [],
   "source": [
    "# define a function to calculate BMI\n",
    "#    don't forget to use your functions \n",
    "#    instead of using arithematic operators\n",
    "def bmi(weight,height) :\n",
    "    temp1 = multiply(height, height)\n",
    "    temp2 = divide(weight, temp1)\n",
    "    return multiply(temp2, 703)"
   ]
  },
  {
   "cell_type": "code",
   "execution_count": 15,
   "metadata": {},
   "outputs": [
    {
     "name": "stdout",
     "output_type": "stream",
     "text": [
      "Enter your height in inches: 73\n",
      "Enter your weight in pounds: 140\n",
      "Your BMI is 18.47\n"
     ]
    }
   ],
   "source": [
    "# get a weight from the user\n",
    "height = input(\"Enter your height in inches: \")\n",
    "\n",
    "\n",
    "# get a height from the user\n",
    "weight = input(\"Enter your weight in pounds: \") \n",
    "\n",
    "# compute BMI by calling your BMI function, and print out the result\n",
    "iheight = int(height)\n",
    "iweight = int(weight)\n",
    "\n",
    "print(f\"Your BMI is {bmi(iweight, iheight):.2f}\")\n"
   ]
  },
  {
   "cell_type": "markdown",
   "metadata": {},
   "source": [
    "## Exercise 5\n",
    "Create a function that takes three numeric arguments and returns their average. Then, write code that gets three numbers from the user and calls your function to compute the average of those numbers."
   ]
  },
  {
   "cell_type": "code",
   "execution_count": 16,
   "metadata": {},
   "outputs": [],
   "source": [
    "# define a function that takes three arguments and returns their average\n",
    "def sum3(arg1, arg2, arg3) :\n",
    "    average = (arg1+arg2+arg3) / 3\n",
    "    return average\n",
    "\n"
   ]
  },
  {
   "cell_type": "code",
   "execution_count": 18,
   "metadata": {},
   "outputs": [
    {
     "name": "stdout",
     "output_type": "stream",
     "text": [
      "Enter a score: 80\n",
      "Enter a score: 80\n",
      "Enter a score: 80\n",
      "On the three tests the students scored 80, 80 and 80 for an average of 80.0\n",
      "\n"
     ]
    }
   ],
   "source": [
    "# get three scores from a user \n",
    "arg1=input(\"Enter a score: \")\n",
    "score1 = int(arg1)\n",
    "\n",
    "score2 = int(input(\"Enter a score: \"))\n",
    "score3 = int(input(\"Enter a score: \"))\n",
    "\n",
    "\n",
    "# call your function to compute the average score\n",
    "avg = sum3(score1, score2, score3)\n",
    "\n",
    "# print the average score\n",
    "print(f\"On the three tests the students scored {score1}, {score2} and {score3} for an average of {avg:.1f}\")\n",
    "print()"
   ]
  },
  {
   "cell_type": "markdown",
   "metadata": {},
   "source": [
    "### Exercise 6\n",
    "Using your pseudocode for \"How much water runs off a roof in a rain storm?\" from Module 2 homework, define a Python function. Then, write a program to call your function.\n",
    "\n",
    "<i>*Which functionality make sense to modulize into a function? Use Module 2 Exercise Answers.ipynb from Canvas, if needed.</i>"
   ]
  },
  {
   "cell_type": "code",
   "execution_count": null,
   "metadata": {},
   "outputs": [],
   "source": []
  }
 ],
 "metadata": {
  "kernelspec": {
   "display_name": "Python 3 (ipykernel)",
   "language": "python",
   "name": "python3"
  },
  "language_info": {
   "codemirror_mode": {
    "name": "ipython",
    "version": 3
   },
   "file_extension": ".py",
   "mimetype": "text/x-python",
   "name": "python",
   "nbconvert_exporter": "python",
   "pygments_lexer": "ipython3",
   "version": "3.10.9"
  }
 },
 "nbformat": 4,
 "nbformat_minor": 2
}
