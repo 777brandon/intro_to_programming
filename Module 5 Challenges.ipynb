{
 "cells": [
  {
   "cell_type": "markdown",
   "id": "4e1eb849",
   "metadata": {},
   "source": [
    "## Challenge: Write Python programs to calculate employee pay."
   ]
  },
  {
   "cell_type": "markdown",
   "id": "7c7b5792",
   "metadata": {},
   "source": [
    "### Challenge 1: Use if/elif/else"
   ]
  },
  {
   "cell_type": "raw",
   "id": "6d9bbb43",
   "metadata": {},
   "source": [
    "BEGIN\n",
    "\n",
    "Prompt user for employee number\n",
    "Get employee number\n",
    "Prompt user for payrate\n",
    "Get payrate\n",
    "Prompt user for hours worked\n",
    "Get hours worked\n",
    "\n",
    "IF hours worked is more than 60 THEN\n",
    "    Prompt user to enter correct number of hours worked in a week\n",
    "ELSE IF payrate is more than 25 THEN\n",
    "    Prompt user to enter correct pay rate\n",
    "ELSE\n",
    "    IF hours_worked is greater than 35 hours THEN\n",
    "        overtime_hours = hour worked - 35\n",
    "        overtime_pay = payrate x 1.5 x overtime_hours\n",
    "        regular_hours = 35\n",
    "    ELSE\n",
    "        overtime_hours = 0\n",
    "        overtime_pay = 0\n",
    "        regular_hours = hours_worked\n",
    "    ENDIF\n",
    "\n",
    "    regular_pay = regular_hours x payrate\n",
    "    weekly_pay = regular_pay + overtime_pay \n",
    "    Display employee number, hourly_rate, hours_worked and weekly_pay    \n",
    "ENDIF\n",
    "\n",
    "END"
   ]
  },
  {
   "cell_type": "code",
   "execution_count": 1,
   "id": "01fbd9a4",
   "metadata": {},
   "outputs": [],
   "source": [
    "# Using the pseudocode shown above, write a Python program to calculate employees's pay\n",
    "empN = input(\"Please enter your employee number: \")\n",
    "hourly_pay input(\"Enter your hourly wage: \")\n",
    "num_hours input(\"Enter the amount of hours you have worked this week: \")\n"
   ]
  },
  {
   "cell_type": "markdown",
   "id": "17b77c35",
   "metadata": {},
   "source": [
    "### Challenge 2: Use Repetition"
   ]
  },
  {
   "cell_type": "code",
   "execution_count": null,
   "id": "b0ce63ce",
   "metadata": {},
   "outputs": [],
   "source": [
    "# Rewite the program from challenge 1 to allow the user to correct hours worked and pay rate"
   ]
  }
 ],
 "metadata": {
  "kernelspec": {
   "display_name": "Python 3 (ipykernel)",
   "language": "python",
   "name": "python3"
  },
  "language_info": {
   "codemirror_mode": {
    "name": "ipython",
    "version": 3
   },
   "file_extension": ".py",
   "mimetype": "text/x-python",
   "name": "python",
   "nbconvert_exporter": "python",
   "pygments_lexer": "ipython3",
   "version": "3.10.9"
  }
 },
 "nbformat": 4,
 "nbformat_minor": 5
}
