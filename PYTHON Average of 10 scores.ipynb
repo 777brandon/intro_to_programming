{
 "cells": [
  {
   "cell_type": "code",
   "execution_count": 5,
   "id": "a0063493",
   "metadata": {},
   "outputs": [
    {
     "name": "stdout",
     "output_type": "stream",
     "text": [
      "Enter score number 1 : 40\n",
      "Enter score number 2 : 30\n",
      "Enter score number 3 : 20\n",
      "Enter score number 4 : 50\n",
      "Enter score number 5 : 30\n",
      "Enter score number 6 : 40\n",
      "Enter score number 7 : 50\n",
      "Enter score number 8 : 60\n",
      "Enter score number 9 : 30\n",
      "Enter score number 10 : 20\n",
      "The average score is 37.00.\n"
     ]
    }
   ],
   "source": [
    "sum = 0 \n",
    "for i in range(10) :\n",
    "    score_number = i + 1\n",
    "    score = int(input(f\"Enter score number {score_number} : \"))\n",
    "    sum = sum + score\n",
    "avg = sum / 10\n",
    "print(f\"The average score is {avg:.2f}.\")"
   ]
  },
  {
   "cell_type": "code",
   "execution_count": null,
   "id": "93f7e47e",
   "metadata": {},
   "outputs": [],
   "source": []
  }
 ],
 "metadata": {
  "kernelspec": {
   "display_name": "Python 3 (ipykernel)",
   "language": "python",
   "name": "python3"
  },
  "language_info": {
   "codemirror_mode": {
    "name": "ipython",
    "version": 3
   },
   "file_extension": ".py",
   "mimetype": "text/x-python",
   "name": "python",
   "nbconvert_exporter": "python",
   "pygments_lexer": "ipython3",
   "version": "3.10.9"
  }
 },
 "nbformat": 4,
 "nbformat_minor": 5
}
