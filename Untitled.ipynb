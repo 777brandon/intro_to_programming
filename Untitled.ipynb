{
 "cells": [
  {
   "cell_type": "code",
   "execution_count": 2,
   "id": "2aff493e",
   "metadata": {},
   "outputs": [
    {
     "name": "stdout",
     "output_type": "stream",
     "text": [
      "010704162\n"
     ]
    },
    {
     "ename": "ValueError",
     "evalue": "invalid literal for int() with base 2: '2'",
     "output_type": "error",
     "traceback": [
      "\u001b[0;31m---------------------------------------------------------------------------\u001b[0m",
      "\u001b[0;31mValueError\u001b[0m                                Traceback (most recent call last)",
      "Cell \u001b[0;32mIn[2], line 2\u001b[0m\n\u001b[1;32m      1\u001b[0m binary_number \u001b[38;5;241m=\u001b[39m \u001b[38;5;28minput\u001b[39m(\u001b[38;5;124m\"\u001b[39m\u001b[38;5;124m01070416\u001b[39m\u001b[38;5;124m\"\u001b[39m)\n\u001b[0;32m----> 2\u001b[0m decimal_value \u001b[38;5;241m=\u001b[39m \u001b[38;5;28;43mint\u001b[39;49m\u001b[43m(\u001b[49m\u001b[43mbinary_number\u001b[49m\u001b[43m,\u001b[49m\u001b[43m \u001b[49m\u001b[38;5;241;43m2\u001b[39;49m\u001b[43m)\u001b[49m\n\u001b[1;32m      3\u001b[0m \u001b[38;5;28mprint\u001b[39m (binary_number, \u001b[38;5;124m\"\u001b[39m\u001b[38;5;124mhas a decimal value of\u001b[39m\u001b[38;5;124m\"\u001b[39m, decimal_value)\n",
      "\u001b[0;31mValueError\u001b[0m: invalid literal for int() with base 2: '2'"
     ]
    }
   ],
   "source": [
    "binary_number = input(\"01070416\")\n",
    "decimal_value = int(binary_number, 2)\n",
    "print (binary_number, \"has a decimal value of\", decimal_value)\n",
    "\n"
   ]
  },
  {
   "cell_type": "code",
   "execution_count": null,
   "id": "b49b3e37",
   "metadata": {},
   "outputs": [],
   "source": []
  },
  {
   "cell_type": "code",
   "execution_count": null,
   "id": "5a1e2505",
   "metadata": {},
   "outputs": [],
   "source": [
    "binary_number = input(\"01070416\")\n",
    "decimal_value = int(binary_number, 2)\n",
    "print (binary_number, \"has a decimal value of\", decimal_value)"
   ]
  },
  {
   "cell_type": "code",
   "execution_count": null,
   "id": "6cfdb1ab",
   "metadata": {},
   "outputs": [],
   "source": [
    "binary"
   ]
  }
 ],
 "metadata": {
  "kernelspec": {
   "display_name": "Python 3 (ipykernel)",
   "language": "python",
   "name": "python3"
  },
  "language_info": {
   "codemirror_mode": {
    "name": "ipython",
    "version": 3
   },
   "file_extension": ".py",
   "mimetype": "text/x-python",
   "name": "python",
   "nbconvert_exporter": "python",
   "pygments_lexer": "ipython3",
   "version": "3.10.9"
  }
 },
 "nbformat": 4,
 "nbformat_minor": 5
}
