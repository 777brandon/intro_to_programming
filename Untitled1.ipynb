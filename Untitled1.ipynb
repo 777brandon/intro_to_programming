{
 "cells": [
  {
   "cell_type": "code",
   "execution_count": null,
   "id": "b9ed5892",
   "metadata": {},
   "outputs": [],
   "source": [
    "binary_number = input(\"12121212\")\n",
    "decimal_value = int(binary_number, 2)\n",
    "print(binary_number, \"has a decimal value of\", decimal_value)"
   ]
  },
  {
   "cell_type": "code",
   "execution_count": null,
   "id": "27f66b6a",
   "metadata": {},
   "outputs": [],
   "source": []
  }
 ],
 "metadata": {
  "kernelspec": {
   "display_name": "Python 3 (ipykernel)",
   "language": "python",
   "name": "python3"
  },
  "language_info": {
   "codemirror_mode": {
    "name": "ipython",
    "version": 3
   },
   "file_extension": ".py",
   "mimetype": "text/x-python",
   "name": "python",
   "nbconvert_exporter": "python",
   "pygments_lexer": "ipython3",
   "version": "3.10.9"
  }
 },
 "nbformat": 4,
 "nbformat_minor": 5
}
