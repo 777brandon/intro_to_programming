{
 "cells": [
  {
   "cell_type": "code",
   "execution_count": 1,
   "id": "f0b09bfc",
   "metadata": {},
   "outputs": [
    {
     "ename": "ValueError",
     "evalue": "could not convert string to float: 'Enter the length of the rectangle: '",
     "output_type": "error",
     "traceback": [
      "\u001b[0;31m---------------------------------------------------------------------------\u001b[0m",
      "\u001b[0;31mValueError\u001b[0m                                Traceback (most recent call last)",
      "Cell \u001b[0;32mIn[1], line 2\u001b[0m\n\u001b[1;32m      1\u001b[0m \u001b[38;5;66;03m# Get the length and width from the user\u001b[39;00m\n\u001b[0;32m----> 2\u001b[0m length \u001b[38;5;241m=\u001b[39m \u001b[38;5;28;43mfloat\u001b[39;49m\u001b[43m(\u001b[49m\u001b[38;5;124;43m\"\u001b[39;49m\u001b[38;5;124;43mEnter the length of the rectangle: \u001b[39;49m\u001b[38;5;124;43m\"\u001b[39;49m\u001b[43m)\u001b[49m\n\u001b[1;32m      3\u001b[0m length \u001b[38;5;241m=\u001b[39m \u001b[38;5;28mfloat\u001b[39m(length)\n\u001b[1;32m      4\u001b[0m width \u001b[38;5;241m=\u001b[39m \u001b[38;5;28mfloat\u001b[39m(\u001b[38;5;28minput\u001b[39m(\u001b[38;5;124m\"\u001b[39m\u001b[38;5;124mEnter the width of the rectangle: \u001b[39m\u001b[38;5;124m\"\u001b[39m))\n",
      "\u001b[0;31mValueError\u001b[0m: could not convert string to float: 'Enter the length of the rectangle: '"
     ]
    }
   ],
   "source": [
    "# Get the length and width from the user\n",
    "length = float(\"Enter the length of the rectangle: \")\n",
    "length = float(length)\n",
    "width = float(input(\"Enter the width of the rectangle: \"))\n",
    "# Calculate the area\n",
    "area = length * width\n",
    "# Display the area to the user\n",
    "print(f\"A rectangle with a length of {length}\", end=\" \")\n",
    "print(f\"and a width of {width} has an area of {area}.\")"
   ]
  },
  {
   "cell_type": "code",
   "execution_count": 2,
   "id": "50527d51",
   "metadata": {},
   "outputs": [
    {
     "name": "stdout",
     "output_type": "stream",
     "text": [
      "Enter the length of the rectangle: 23\n",
      "Enter the width of the rectangle: 40\n",
      "A rectangle with a length of 23 and a width of 40 has an area of 920.\n"
     ]
    }
   ],
   "source": [
    "length = input(\"Enter the length of the rectangle: \")\n",
    "length = int(length)\n",
    "width = int(input(\"Enter the width of the rectangle: \"))\n",
    "area = length * width\n",
    "print(f\"A rectangle with a length of {length}\", end=\" \")\n",
    "print(f\"and a width of {width} has an area of {area}.\")"
   ]
  },
  {
   "cell_type": "code",
   "execution_count": 3,
   "id": "1948ce88",
   "metadata": {},
   "outputs": [
    {
     "name": "stdout",
     "output_type": "stream",
     "text": [
      "Enter the length of the rectangle: 20.341\n",
      "Enter the width of the rectangle: 40.310\n",
      "A rectangle with a length of 20.341 and a width of 40.31 has an area of 819.9457100000001.\n"
     ]
    }
   ],
   "source": [
    "length = input(\"Enter the length of the rectangle: \")\n",
    "length = float(length)\n",
    "width = float(input(\"Enter the width of the rectangle: \"))\n",
    "area = length * width\n",
    "print(f\"A rectangle with a length of {length}\", end=\" \")\n",
    "print(f\"and a width of {width} has an area of {area}.\")"
   ]
  },
  {
   "cell_type": "code",
   "execution_count": 6,
   "id": "a478a639",
   "metadata": {},
   "outputs": [
    {
     "name": "stdout",
     "output_type": "stream",
     "text": [
      "Enter the length of the rectangle: 20.4\n",
      "Enter the width of the rectangle: 10.6\n",
      "A rectangle with a length of 20.4 and a width of 10.6 has an area of 216.24.\n"
     ]
    }
   ],
   "source": [
    "length = input(\"Enter the length of the rectangle: \")\n",
    "length = float(length)\n",
    "width = float(input(\"Enter the width of the rectangle: \"))\n",
    "area = length * width\n",
    "area = round(area, 2)\n",
    "print(f\"A rectangle with a length of {length}\", end=\" \")\n",
    "print(f\"and a width of {width} has an area of {area}.\")\n"
   ]
  },
  {
   "cell_type": "code",
   "execution_count": null,
   "id": "8fe29bfe",
   "metadata": {},
   "outputs": [],
   "source": []
  }
 ],
 "metadata": {
  "kernelspec": {
   "display_name": "Python 3 (ipykernel)",
   "language": "python",
   "name": "python3"
  },
  "language_info": {
   "codemirror_mode": {
    "name": "ipython",
    "version": 3
   },
   "file_extension": ".py",
   "mimetype": "text/x-python",
   "name": "python",
   "nbconvert_exporter": "python",
   "pygments_lexer": "ipython3",
   "version": "3.10.9"
  }
 },
 "nbformat": 4,
 "nbformat_minor": 5
}
