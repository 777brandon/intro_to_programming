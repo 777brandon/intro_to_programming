{
 "cells": [
  {
   "cell_type": "code",
   "execution_count": 1,
   "id": "f5b963c9",
   "metadata": {},
   "outputs": [
    {
     "ename": "SyntaxError",
     "evalue": "unexpected character after line continuation character (2379479863.py, line 13)",
     "output_type": "error",
     "traceback": [
      "\u001b[0;36m  Cell \u001b[0;32mIn[1], line 13\u001b[0;36m\u001b[0m\n\u001b[0;31m    message = f\"Hmm, \\arg\"{arg}\\\"\"\u001b[0m\n\u001b[0m                                ^\u001b[0m\n\u001b[0;31mSyntaxError\u001b[0m\u001b[0;31m:\u001b[0m unexpected character after line continuation character\n"
     ]
    }
   ],
   "source": [
    "import random\n",
    "\n",
    "def response(arg, randomnumber):\n",
    "    if arg == \"\" or arg == \" \":\n",
    "        message = \"Please enter something in.\"\n",
    "    elif randomnumber == 1:\n",
    "        message = f\"Tell me more about, \\\"{arg}\\\".\"\n",
    "    elif randomnumber == 2:\n",
    "        message = f\"What can you do about, \\\"{arg}\\\"?\"\n",
    "    elif randomnumber == 3:\n",
    "        messsage = f\"You said \\\"{arg}\\\", \\ninteresting and how are you gonna fix that?\"\n",
    "    elif randomnumber == 4:\n",
    "        message = f\"Hmm, \\arg\"{arg}\\\"\""
   ]
  },
  {
   "cell_type": "code",
   "execution_count": null,
   "id": "06512803",
   "metadata": {},
   "outputs": [],
   "source": []
  }
 ],
 "metadata": {
  "kernelspec": {
   "display_name": "Python 3 (ipykernel)",
   "language": "python",
   "name": "python3"
  },
  "language_info": {
   "codemirror_mode": {
    "name": "ipython",
    "version": 3
   },
   "file_extension": ".py",
   "mimetype": "text/x-python",
   "name": "python",
   "nbconvert_exporter": "python",
   "pygments_lexer": "ipython3",
   "version": "3.10.9"
  }
 },
 "nbformat": 4,
 "nbformat_minor": 5
}
