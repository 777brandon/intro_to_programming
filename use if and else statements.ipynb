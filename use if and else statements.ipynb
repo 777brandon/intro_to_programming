{
 "cells": [
  {
   "cell_type": "code",
   "execution_count": 1,
   "id": "737ba074",
   "metadata": {
    "scrolled": true
   },
   "outputs": [
    {
     "name": "stdout",
     "output_type": "stream",
     "text": [
      "Please enter a whole number: 11\n",
      "The number you entered, 11, is an odd number.\n",
      "Goodbye\n"
     ]
    }
   ],
   "source": [
    "#get an interget from the user\n",
    "number = int(input(\"Please enter a whole number: \"))\n",
    "#check if the number is even or odd\n",
    "if (number % 2 == 0) :\n",
    "    print(f\"The number you entered, {number}, is an even number.\")\n",
    "else:\n",
    "        print(f\"The number you entered, {number}, is an odd number.\")\n",
    "        print(\"Goodbye\")\n",
    "        "
   ]
  },
  {
   "cell_type": "code",
   "execution_count": null,
   "id": "e7c1bdb7",
   "metadata": {},
   "outputs": [],
   "source": []
  }
 ],
 "metadata": {
  "kernelspec": {
   "display_name": "Python 3 (ipykernel)",
   "language": "python",
   "name": "python3"
  },
  "language_info": {
   "codemirror_mode": {
    "name": "ipython",
    "version": 3
   },
   "file_extension": ".py",
   "mimetype": "text/x-python",
   "name": "python",
   "nbconvert_exporter": "python",
   "pygments_lexer": "ipython3",
   "version": "3.10.9"
  }
 },
 "nbformat": 4,
 "nbformat_minor": 5
}
